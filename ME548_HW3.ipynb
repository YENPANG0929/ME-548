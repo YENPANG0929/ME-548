{
  "nbformat": 4,
  "nbformat_minor": 0,
  "metadata": {
    "colab": {
      "provenance": []
    },
    "kernelspec": {
      "name": "python3",
      "display_name": "Python 3"
    },
    "language_info": {
      "name": "python"
    }
  },
  "cells": [
    {
      "cell_type": "markdown",
      "source": [
        "# AA/EE/ME 548: Homework 03\n",
        "\n",
        "## Name: Yenpang Huang\n",
        "\n",
        "### Export page instructions:\n",
        "Export the PDF as though you were going to print the page in your browser (Ctrl+P) rather than through Colab's print functionality, otherwise some of the text will be cut off.\n",
        "\n",
        "### Homework feedback:\n",
        "\n",
        "**What was the coolest thing(s) you learned from lectures/homework that you didn't know previously?**\n",
        "\n",
        "The application of LQR\n",
        "\n",
        "**Which problem did you find the most challenging and why?**\n",
        "\n",
        "2\n",
        "\n",
        "**Approximate how long did you spend on this homework?**\n",
        "5 days\n",
        "\n",
        "**Feedback on this homework (can improve for future hw and years)**\n",
        "\n",
        "\n",
        "\n",
        "\n",
        "## Submission details\n",
        "To submit your homework, please save a PDF copy of your notebook (make sure all the cells are run correctly, and the correct outputs are displayed), and submit via Canvas."
      ],
      "metadata": {
        "id": "ZlHPHXM-BjsW"
      }
    },
    {
      "cell_type": "code",
      "source": [
        "import jax\n",
        "import jax.numpy as jnp\n",
        "import numpy as np\n",
        "from jax.typing import ArrayLike\n",
        "import matplotlib.pyplot as plt"
      ],
      "metadata": {
        "id": "HiXNkf-3BnGj"
      },
      "execution_count": 1,
      "outputs": []
    },
    {
      "cell_type": "markdown",
      "source": [
        "## Problem 1"
      ],
      "metadata": {
        "id": "zucTOJz_BwEZ"
      }
    },
    {
      "cell_type": "markdown",
      "source": [
        "### (a)\n",
        "Assume non-time0varying case Q, R, S, A, B\n",
        "\n",
        "Following the LQR derivation in class, we obtain\n",
        "$$\n",
        "\\min_{u}\\left[u_{N-1}^T R u_{N-1} + 2x_{N-1}^T S u_{N-1} + 2x_{N-1}^T A^T P_N B u_{N-1} + u_{N-1}^T B^T P_N B u_{N-1} \\right]\n",
        "$$\n",
        "\n",
        "then,\n",
        "\n",
        "$$\n",
        "2R u_{N-1} + 2x_{N-1}^T S + 2B^T P_N A x_{N-1} + 2B^T P_N B u_{N-1} = 0\n",
        "$$\n",
        "\n",
        "$$\n",
        "2(R + B^T P_N B) u_{N-1} = -2(S + B^T P_N A) x_{N-1}\n",
        "$$\n",
        "\n",
        "$$\n",
        "u_{N-1}^* = \\left[ - \\left( R +  B^T P_N B \\right)^{-1} (S + B^T P_N A) \\right]x_{N-1}\n",
        "$$\n",
        "\n",
        "hence,\n",
        "\n",
        "$$\n",
        "K_k = \\left[ - \\left( R +  B^T P_{k+1} B \\right)^{-1} (S + B^T P_{k+1} A) \\right]\n",
        "$$\n",
        "\n",
        "$$\n",
        "P_k = Q + A^T P_{k+1} A - A^T P_{k+1} B \\left( R +  B^T P_{k+1} B \\right)^{-1} (S + B^T P_{k+1} A)\n",
        "$$\n",
        "\n"
      ],
      "metadata": {
        "id": "P4TIj1LXB1xR"
      }
    },
    {
      "cell_type": "markdown",
      "source": [
        "# Problem 2\n",
        "\n",
        "The code below was the part that has been modified, and a screenshot of the output animation"
      ],
      "metadata": {
        "id": "4NJEunDzHJEY"
      }
    },
    {
      "cell_type": "code",
      "source": [
        "#####################\n",
        "\n",
        "def simulate_closed_loop(initial_state, nominal_states, nominal_controls):\n",
        "    states = [initial_state]\n",
        "    Klist = []\n",
        "    PN = Q\n",
        "\n",
        "    for k in range(N):\n",
        "        ### UPDATE ME! (AND ADD CODE ELSEWHERE AS YOU SEE FIT) ###\n",
        "        control = nominal_controls[k]\n",
        "        x_error = states[k] - nominal_states[k]\n",
        "        A, B = jax.jacobian(planar_quad.discrete_step, [0, 1])(nominal_states[-1-k], nominal_controls[-1-k], dt)\n",
        "\n",
        "        P = (Q + A.T @ PN @ A - (A.T @ PN @ B) @\n",
        "                jnp.linalg.inv(R + B.T @ PN @ B) @ (B.T @ PN @ A))\n",
        "        K = -jnp.linalg.inv(R + B.T @ PN @ B) @ (B.T @ PN @ A)\n",
        "        PN = P\n",
        "        Klist.append(K)\n",
        "        control += Klist[k] @ x_error\n",
        "\n",
        "        ##########################################################\n",
        "\n",
        "        control = np.clip(control, planar_quad.min_thrust_per_prop, planar_quad.max_thrust_per_prop)\n",
        "        next_state = planar_quad.discrete_step(states[k], control, dt)\n",
        "        next_state = apply_wind_disturbance(next_state, dt)\n",
        "        states.append(next_state)\n",
        "\n",
        "    return np.array(states)\n",
        "\n",
        "\n",
        "# planar_quad = PlanarQuadrotor()\n",
        "# fig, ax = plt.subplots(figsize=(12, 6))\n",
        "# plot_obstacle(ax)\n",
        "# plot_nominal_trajectory(ax)\n",
        "# plot_wind(ax)\n",
        "# planar_quad.animate(simulate_closed_loop(initial_state, nominal_states, nominal_controls), dt, ax)"
      ],
      "metadata": {
        "id": "-ckNstWz9qU_"
      },
      "execution_count": 2,
      "outputs": []
    },
    {
      "cell_type": "code",
      "source": [
        "from google.colab import drive\n",
        "from PIL import Image\n",
        "import matplotlib.pyplot as plt\n",
        "\n",
        "drive.mount('/content/drive')\n",
        "\n",
        "image_path = '/content/drive/MyDrive/ME 548/HW 3/TLQR.png'\n",
        "\n",
        "image = Image.open(image_path)\n",
        "\n",
        "image.show()"
      ],
      "metadata": {
        "id": "-JAGxbbM94qt",
        "colab": {
          "base_uri": "https://localhost:8080/",
          "height": 373
        },
        "outputId": "55c1c9fc-0d90-4da9-e069-e2865919faca"
      },
      "execution_count": 3,
      "outputs": [
        {
          "output_type": "error",
          "ename": "MessageError",
          "evalue": "Error: credential propagation was unsuccessful",
          "traceback": [
            "\u001b[0;31m---------------------------------------------------------------------------\u001b[0m",
            "\u001b[0;31mMessageError\u001b[0m                              Traceback (most recent call last)",
            "\u001b[0;32m<ipython-input-3-a9bd265f25ee>\u001b[0m in \u001b[0;36m<cell line: 5>\u001b[0;34m()\u001b[0m\n\u001b[1;32m      3\u001b[0m \u001b[0;32mimport\u001b[0m \u001b[0mmatplotlib\u001b[0m\u001b[0;34m.\u001b[0m\u001b[0mpyplot\u001b[0m \u001b[0;32mas\u001b[0m \u001b[0mplt\u001b[0m\u001b[0;34m\u001b[0m\u001b[0;34m\u001b[0m\u001b[0m\n\u001b[1;32m      4\u001b[0m \u001b[0;34m\u001b[0m\u001b[0m\n\u001b[0;32m----> 5\u001b[0;31m \u001b[0mdrive\u001b[0m\u001b[0;34m.\u001b[0m\u001b[0mmount\u001b[0m\u001b[0;34m(\u001b[0m\u001b[0;34m'/content/drive'\u001b[0m\u001b[0;34m)\u001b[0m\u001b[0;34m\u001b[0m\u001b[0;34m\u001b[0m\u001b[0m\n\u001b[0m\u001b[1;32m      6\u001b[0m \u001b[0;34m\u001b[0m\u001b[0m\n\u001b[1;32m      7\u001b[0m \u001b[0mimage_path\u001b[0m \u001b[0;34m=\u001b[0m \u001b[0;34m'/content/drive/MyDrive/ME 548/HW 3/TLQR.png'\u001b[0m\u001b[0;34m\u001b[0m\u001b[0;34m\u001b[0m\u001b[0m\n",
            "\u001b[0;32m/usr/local/lib/python3.10/dist-packages/google/colab/drive.py\u001b[0m in \u001b[0;36mmount\u001b[0;34m(mountpoint, force_remount, timeout_ms, readonly)\u001b[0m\n\u001b[1;32m     98\u001b[0m \u001b[0;32mdef\u001b[0m \u001b[0mmount\u001b[0m\u001b[0;34m(\u001b[0m\u001b[0mmountpoint\u001b[0m\u001b[0;34m,\u001b[0m \u001b[0mforce_remount\u001b[0m\u001b[0;34m=\u001b[0m\u001b[0;32mFalse\u001b[0m\u001b[0;34m,\u001b[0m \u001b[0mtimeout_ms\u001b[0m\u001b[0;34m=\u001b[0m\u001b[0;36m120000\u001b[0m\u001b[0;34m,\u001b[0m \u001b[0mreadonly\u001b[0m\u001b[0;34m=\u001b[0m\u001b[0;32mFalse\u001b[0m\u001b[0;34m)\u001b[0m\u001b[0;34m:\u001b[0m\u001b[0;34m\u001b[0m\u001b[0;34m\u001b[0m\u001b[0m\n\u001b[1;32m     99\u001b[0m   \u001b[0;34m\"\"\"Mount your Google Drive at the specified mountpoint path.\"\"\"\u001b[0m\u001b[0;34m\u001b[0m\u001b[0;34m\u001b[0m\u001b[0m\n\u001b[0;32m--> 100\u001b[0;31m   return _mount(\n\u001b[0m\u001b[1;32m    101\u001b[0m       \u001b[0mmountpoint\u001b[0m\u001b[0;34m,\u001b[0m\u001b[0;34m\u001b[0m\u001b[0;34m\u001b[0m\u001b[0m\n\u001b[1;32m    102\u001b[0m       \u001b[0mforce_remount\u001b[0m\u001b[0;34m=\u001b[0m\u001b[0mforce_remount\u001b[0m\u001b[0;34m,\u001b[0m\u001b[0;34m\u001b[0m\u001b[0;34m\u001b[0m\u001b[0m\n",
            "\u001b[0;32m/usr/local/lib/python3.10/dist-packages/google/colab/drive.py\u001b[0m in \u001b[0;36m_mount\u001b[0;34m(mountpoint, force_remount, timeout_ms, ephemeral, readonly)\u001b[0m\n\u001b[1;32m    131\u001b[0m   )\n\u001b[1;32m    132\u001b[0m   \u001b[0;32mif\u001b[0m \u001b[0mephemeral\u001b[0m\u001b[0;34m:\u001b[0m\u001b[0;34m\u001b[0m\u001b[0;34m\u001b[0m\u001b[0m\n\u001b[0;32m--> 133\u001b[0;31m     _message.blocking_request(\n\u001b[0m\u001b[1;32m    134\u001b[0m         \u001b[0;34m'request_auth'\u001b[0m\u001b[0;34m,\u001b[0m \u001b[0mrequest\u001b[0m\u001b[0;34m=\u001b[0m\u001b[0;34m{\u001b[0m\u001b[0;34m'authType'\u001b[0m\u001b[0;34m:\u001b[0m \u001b[0;34m'dfs_ephemeral'\u001b[0m\u001b[0;34m}\u001b[0m\u001b[0;34m,\u001b[0m \u001b[0mtimeout_sec\u001b[0m\u001b[0;34m=\u001b[0m\u001b[0;32mNone\u001b[0m\u001b[0;34m\u001b[0m\u001b[0;34m\u001b[0m\u001b[0m\n\u001b[1;32m    135\u001b[0m     )\n",
            "\u001b[0;32m/usr/local/lib/python3.10/dist-packages/google/colab/_message.py\u001b[0m in \u001b[0;36mblocking_request\u001b[0;34m(request_type, request, timeout_sec, parent)\u001b[0m\n\u001b[1;32m    174\u001b[0m       \u001b[0mrequest_type\u001b[0m\u001b[0;34m,\u001b[0m \u001b[0mrequest\u001b[0m\u001b[0;34m,\u001b[0m \u001b[0mparent\u001b[0m\u001b[0;34m=\u001b[0m\u001b[0mparent\u001b[0m\u001b[0;34m,\u001b[0m \u001b[0mexpect_reply\u001b[0m\u001b[0;34m=\u001b[0m\u001b[0;32mTrue\u001b[0m\u001b[0;34m\u001b[0m\u001b[0;34m\u001b[0m\u001b[0m\n\u001b[1;32m    175\u001b[0m   )\n\u001b[0;32m--> 176\u001b[0;31m   \u001b[0;32mreturn\u001b[0m \u001b[0mread_reply_from_input\u001b[0m\u001b[0;34m(\u001b[0m\u001b[0mrequest_id\u001b[0m\u001b[0;34m,\u001b[0m \u001b[0mtimeout_sec\u001b[0m\u001b[0;34m)\u001b[0m\u001b[0;34m\u001b[0m\u001b[0;34m\u001b[0m\u001b[0m\n\u001b[0m",
            "\u001b[0;32m/usr/local/lib/python3.10/dist-packages/google/colab/_message.py\u001b[0m in \u001b[0;36mread_reply_from_input\u001b[0;34m(message_id, timeout_sec)\u001b[0m\n\u001b[1;32m    101\u001b[0m     ):\n\u001b[1;32m    102\u001b[0m       \u001b[0;32mif\u001b[0m \u001b[0;34m'error'\u001b[0m \u001b[0;32min\u001b[0m \u001b[0mreply\u001b[0m\u001b[0;34m:\u001b[0m\u001b[0;34m\u001b[0m\u001b[0;34m\u001b[0m\u001b[0m\n\u001b[0;32m--> 103\u001b[0;31m         \u001b[0;32mraise\u001b[0m \u001b[0mMessageError\u001b[0m\u001b[0;34m(\u001b[0m\u001b[0mreply\u001b[0m\u001b[0;34m[\u001b[0m\u001b[0;34m'error'\u001b[0m\u001b[0;34m]\u001b[0m\u001b[0;34m)\u001b[0m\u001b[0;34m\u001b[0m\u001b[0;34m\u001b[0m\u001b[0m\n\u001b[0m\u001b[1;32m    104\u001b[0m       \u001b[0;32mreturn\u001b[0m \u001b[0mreply\u001b[0m\u001b[0;34m.\u001b[0m\u001b[0mget\u001b[0m\u001b[0;34m(\u001b[0m\u001b[0;34m'data'\u001b[0m\u001b[0;34m,\u001b[0m \u001b[0;32mNone\u001b[0m\u001b[0;34m)\u001b[0m\u001b[0;34m\u001b[0m\u001b[0;34m\u001b[0m\u001b[0m\n\u001b[1;32m    105\u001b[0m \u001b[0;34m\u001b[0m\u001b[0m\n",
            "\u001b[0;31mMessageError\u001b[0m: Error: credential propagation was unsuccessful"
          ]
        }
      ]
    },
    {
      "cell_type": "markdown",
      "source": [
        "## 2(b) Why does there exist some \"steady state error\" at the end of the trajectory?\n",
        "\n",
        "The \"steady state error\" at the end may be due to control limits."
      ],
      "metadata": {
        "id": "iryYOwucBQhR"
      }
    },
    {
      "cell_type": "markdown",
      "source": [
        "## 2(c) If we found ourselves running up against control limits (i.e., activating the `np.clip` in the cell above; this shouldn't be the case with the numbers given in this problem as written), what could we change in (a) the tracking LQR formulation, or (b) the computation of the nominal trajectory, to make this less likely to happen?\n",
        "\n",
        "We could address control limits issue in two way. First, we could increase the values of R matrix in the cost function of tracking LQR to set higher control penalties. Secondly, we could also add additional control constraints in the optimize_nominal_trajectory function to overcome this issue.\n"
      ],
      "metadata": {
        "id": "Vt5G1EdBBTLP"
      }
    },
    {
      "cell_type": "markdown",
      "source": [
        "## 2(d) Even with closed-loop control, we see that the red \"safety bubble\" surrounding the quad intersects the obstacle over a short time interval. What could we do to avoid this?\n",
        "\n",
        "We could add constraints to the 'safety bubble' of the drone to avoid collision with the obstacle. Another approach would be to implement a CBF or perform HJ Reachability to achieve the same goal."
      ],
      "metadata": {
        "id": "LSyNdWXCBfUG"
      }
    },
    {
      "cell_type": "markdown",
      "source": [
        "# Problem 3"
      ],
      "metadata": {
        "id": "Z5ZkpYkeHMoy"
      }
    },
    {
      "cell_type": "code",
      "source": [
        "!pip install --upgrade hj-reachability"
      ],
      "metadata": {
        "id": "mS6iHUpcHOA8"
      },
      "execution_count": null,
      "outputs": []
    },
    {
      "cell_type": "code",
      "source": [
        "from IPython.display import HTML\n",
        "import matplotlib.animation as anim\n",
        "import plotly.graph_objects as go\n",
        "\n",
        "import hj_reachability as hj\n",
        "from hj_reachability import dynamics\n",
        "from hj_reachability import sets"
      ],
      "metadata": {
        "id": "t13S9UgAH0J7"
      },
      "execution_count": null,
      "outputs": []
    },
    {
      "cell_type": "code",
      "source": [
        "\n",
        "class DynUnicycle(dynamics.ControlAndDisturbanceAffineDynamics):\n",
        "\n",
        "    def __init__(self,\n",
        "                 max_turn_rate=1.,\n",
        "                 max_accel=2.,\n",
        "                 control_mode=\"max\",\n",
        "                 disturbance_mode=\"min\",\n",
        "                 control_space=None,\n",
        "                 disturbance_space=None,\n",
        "                 alpha=0.):\n",
        "        # control and disturbance bounds\n",
        "        # in this set up, the disturbance bounds are proportional to the control\n",
        "        # bounds by a factor of alpha\n",
        "        if control_space is None:\n",
        "            control_space = sets.Box(lo=jnp.array([-max_turn_rate, -max_accel]), hi=jnp.array([max_turn_rate, max_accel]))\n",
        "        if disturbance_space is None:\n",
        "            disturbance_space = sets.Box(lo=jnp.array([-max_turn_rate * alpha, -max_accel * alpha]), hi=jnp.array([max_turn_rate * alpha, max_accel * alpha]))\n",
        "        super().__init__(control_mode, disturbance_mode, control_space, disturbance_space)\n",
        "\n",
        "    def open_loop_dynamics(self, state, time):\n",
        "        ### PUT YOUR CODE HERE ###\n",
        "\n",
        "        _, _, theta, v = state\n",
        "\n",
        "        return jnp.array([v * jnp.cos(theta), v * jnp.sin(theta), 0, 0])\n",
        "\n",
        "    def control_jacobian(self, state, time):\n",
        "        ### PUT YOUR CODE HERE ###\n",
        "\n",
        "        x, y, _, _ = state\n",
        "        return jnp.array([\n",
        "            [0., 0.],\n",
        "            [0., 0.],\n",
        "            [1., 0.],\n",
        "            [0., 1.]\n",
        "        ])\n",
        "\n",
        "    def disturbance_jacobian(self, state, time):\n",
        "        ### PUT YOUR CODE HERE ###\n",
        "\n",
        "        return jnp.array([\n",
        "            [0., 0.],\n",
        "            [0., 0.],\n",
        "            [1., 0.],\n",
        "            [0., 1.]\n",
        "        ])\n"
      ],
      "metadata": {
        "id": "9O94_w31H0AP"
      },
      "execution_count": null,
      "outputs": []
    },
    {
      "cell_type": "code",
      "source": [
        "\n",
        "### REACH ###\n",
        "# control_mode = \"min\"\n",
        "# disturbance_mode = \"max\"\n",
        "####################################\n",
        "\n",
        "### AVOID or when computing FRS ###\n",
        "control_mode = \"max\"\n",
        "disturbance_mode = \"min\"\n",
        "####################################\n",
        "\n",
        "# model with noise/disturbance bounds proportional to the control limits\n",
        "dynamics_noisy = DynUnicycle(alpha=0.6, control_mode=control_mode, disturbance_mode=disturbance_mode)\n",
        "\n",
        "# no noise on the model\n",
        "dynamics = DynUnicycle(control_mode=control_mode, disturbance_mode=disturbance_mode)\n",
        "\n",
        "grid = hj.Grid.from_lattice_parameters_and_boundary_conditions(hj.sets.Box(lo=np.array([-10., -10., 0., -4.]),\n",
        "                                                                   hi=np.array([10., 10., 2 * np.pi, 4.])), (21, 21, 30, 31),\n",
        "                                                       periodic_dims=2)\n",
        "# terminal values. circle in position space centered at origin and with radius 3\n",
        "values = jnp.linalg.norm(grid.states[..., :2], axis=-1) - 3\n",
        "solver_settings = hj.SolverSettings.with_accuracy(\"very_high\",\n",
        "                                                  hamiltonian_postprocessor=hj.solver.backwards_reachable_tube)"
      ],
      "metadata": {
        "id": "_BdHi7O0Hz85"
      },
      "execution_count": null,
      "outputs": []
    },
    {
      "cell_type": "code",
      "source": [
        "# solve the HJI equation\n",
        "time = 0.\n",
        "target_time = -2\n",
        "target_values = hj.step(solver_settings, dynamics, grid, time, values, target_time).block_until_ready()\n",
        "target_values_noisy = hj.step(solver_settings, dynamics_noisy, grid, time, values, target_time).block_until_ready()\n"
      ],
      "metadata": {
        "id": "_xnn7ax4Hz4q"
      },
      "execution_count": null,
      "outputs": []
    },
    {
      "cell_type": "code",
      "source": [
        "## plotting\n",
        "fontsize = 16\n",
        "## When plotting, use the following indices for theta and v when\n",
        "## slicing the value function across the x and y dimensions.\n",
        "theta_i = 0\n",
        "v_i = 25\n",
        "\n",
        "plt.jet()\n",
        "plt.figure(figsize=(8, 6))\n",
        "plt.contourf(grid.coordinate_vectors[0], grid.coordinate_vectors[1], target_values[:, :, theta_i, v_i].T)\n",
        "cbar = plt.colorbar()\n",
        "plt.contour(grid.coordinate_vectors[0],\n",
        "            grid.coordinate_vectors[1],\n",
        "            values[:, :, theta_i, v_i].T,\n",
        "            levels=0,\n",
        "            colors=\"black\",\n",
        "            linewidths=3)\n",
        "plt.contour(grid.coordinate_vectors[0],\n",
        "            grid.coordinate_vectors[1],\n",
        "            target_values[:, :, theta_i, v_i].T,\n",
        "            levels=0,\n",
        "            colors=\"red\",\n",
        "            linewidths=3)\n",
        "plt.contour(grid.coordinate_vectors[0],\n",
        "            grid.coordinate_vectors[1],\n",
        "            target_values_noisy[:, :, theta_i, v_i].T,\n",
        "            levels=0,\n",
        "            colors=\"yellow\",\n",
        "            linewidths=3)\n",
        "\n",
        "\n",
        "\n",
        "plt.xticks(fontsize=fontsize)\n",
        "plt.yticks(fontsize=fontsize)\n",
        "ticklabs = cbar.ax.get_yticklabels()\n",
        "cbar.ax.set_yticklabels(ticklabs, fontsize=fontsize)\n",
        "plt.axis(\"equal\")\n",
        "plt.tight_layout()"
      ],
      "metadata": {
        "id": "_qhU3604ZCpv"
      },
      "execution_count": null,
      "outputs": []
    },
    {
      "cell_type": "markdown",
      "source": [
        "# Problem 4"
      ],
      "metadata": {
        "id": "lRZs54Nzbf_i"
      }
    },
    {
      "cell_type": "markdown",
      "source": [
        "## 4(a)\n",
        "\n",
        "Based on Euler integration\n",
        "$$ x_{t+1} = x_t + \\Delta t f(x_t, u_t, t) $$\n",
        "$$ P_{x_{t+1}} = P_{x_t} + \\Delta t \\cdot v_{x_t} $$\n",
        "$$ P_{y_{t+1}} = P_{y_t} + \\Delta t \\cdot v_{y_t} $$\n",
        "$$ v_{x_{t+1}} = v_{x_t} + \\Delta t \\cdot a_{x_t} $$\n",
        "$$ v_{y_{t+1}} = v_{y_t} + \\Delta t \\cdot a_{y_t} $$"
      ],
      "metadata": {
        "id": "zRgfE9pjbjQW"
      }
    },
    {
      "cell_type": "markdown",
      "source": [
        "## 4(b)\n",
        "\n",
        "$$ \\min_{x, u} = \\sum_{k=0}^{T-1} \\|u^2\\| $$\n",
        "$$\n",
        "\\begin{matrix}\n",
        " s.t. & u_k = U, k = 0, ..., N-1 \\\\\n",
        "& x_k = X, x_k \\notin 0, k=0, ..., N\n",
        "\\end{matrix}\n",
        "$$\n",
        "\\\n",
        "\\\n",
        "$$ x_{k+1} = f(x_k, u_k, k), k=0, ..., N-1 $$\n",
        "$$ x_0 = x_{start} $$\n",
        "$$ x_N = x_{final} $$\n",
        "$$ \\| u \\|_2 \\leq a_{max} $$"
      ],
      "metadata": {
        "id": "0ofIwLU5bjL8"
      }
    },
    {
      "cell_type": "code",
      "source": [
        "import cvxpy as cp\n",
        "\n",
        "T = 50  # number of time steps\n",
        "n = 4   # state dimension\n",
        "m = 2   # control dimension\n",
        "\n",
        "xs = cp.Variable([T+1,n]) # state trajectory variable\n",
        "us = cp.Variable([T,m])   # control trajectory variable\n",
        "\n",
        "### Add your code here\n",
        "x_start = np.array([-4, 0, -1, 2]).T\n",
        "x_final = np.array([0, 0, 2, 0]).T\n",
        "dt = 0.1\n",
        "amax = 2\n",
        "\n",
        "A = np.array([[1, 0, dt, 0],\n",
        "              [0, 1, 0, dt],\n",
        "              [0, 0, 1, 0],\n",
        "              [0, 0, 0, 1]])\n",
        "\n",
        "B = np.array([[0, 0],\n",
        "             [0, 0],\n",
        "             [dt, 0],\n",
        "             [0, dt]])\n",
        "\n",
        "cost = 0\n",
        "constr = []\n",
        "for t in range(T):\n",
        "    cost += cp.sum_squares(us[t, :])\n",
        "    constr += [xs[t + 1, :] == A @ xs[t, :] + B @ us[t, :], cp.norm(us[t, :]) <= amax]\n",
        "\n",
        "constr += [xs[T, :] == x_final, xs[0, :] == x_start]\n",
        "problem = cp.Problem(cp.Minimize(cost), constr)\n",
        "problem.solve()\n",
        "\n",
        "######################\n",
        "\n",
        "\n",
        "# plotting out results.\n",
        "states = xs.value\n",
        "controls = us.value\n",
        "\n",
        "plt.figure(figsize=(15,5))\n",
        "plt.subplot(1,2,1)\n",
        "plt.plot(states[:,0], states[:,1])\n",
        "plt.quiver(states[:,0], states[:,1], states[:,2], states[:,3], scale=30, width=.003)\n",
        "plt.quiver(states[:-1,0], states[:-1,1], controls[:,0], controls[:,1], scale=30, width=.003, color='red')\n",
        "plt.title(\"Optimal Trajectory with velocity and acceleration vector\")\n",
        "plt.xlabel(\"$x$ position\")\n",
        "plt.ylabel(\"$y$ position\")\n",
        "plt.grid()\n",
        "\n",
        "plt.subplot(1,2,2)\n",
        "plt.plot(controls)\n",
        "plt.plot(np.linalg.norm(controls, 2, axis=1), '--')\n",
        "plt.title(\"Optimal Control Sequence\")\n",
        "plt.xlabel(\"Time (s)\")\n",
        "plt.ylabel(\"Acceleration\")\n",
        "plt.legend([\"$a_x$\", \"$a_y$\", \"$\\|a\\|_2$\"])\n",
        "plt.grid()"
      ],
      "metadata": {
        "id": "9_tuIXHhakpT"
      },
      "execution_count": null,
      "outputs": []
    },
    {
      "cell_type": "code",
      "source": [],
      "metadata": {
        "id": "CHDgVtfNDvgg"
      },
      "execution_count": null,
      "outputs": []
    }
  ]
}