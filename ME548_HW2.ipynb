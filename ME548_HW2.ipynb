{
  "nbformat": 4,
  "nbformat_minor": 0,
  "metadata": {
    "colab": {
      "provenance": []
    },
    "kernelspec": {
      "name": "python3",
      "display_name": "Python 3"
    },
    "language_info": {
      "name": "python"
    }
  },
  "cells": [
    {
      "cell_type": "markdown",
      "source": [
        "\n",
        "# AA/EE/ME 548: Homework 02\n",
        "\n",
        "## Name: Yenpang Huang\n",
        "\n",
        "### Export page instructions:\n",
        "Export the PDF as though you were going to print the page in your browser (Ctrl+P) rather than through Colab's print functionality, otherwise some of the text will be cut off.\n",
        "\n",
        "### Homework feedback:\n",
        "\n",
        "**What was the coolest thing(s) you learned from lectures/homework that you didn't know previously?**\n",
        "\n",
        "Lie derivative\n",
        "\n",
        "**Which problem did you find the most challenging and why?**\n",
        "\n",
        "1a\n",
        "\n",
        "**Approximate how long did you spend on this homework?**\n",
        "\n",
        "2 days\n",
        "\n",
        "**Feedback on this homework (can improve for future hw and years)**\n",
        "\n",
        "Practical applications so we get to understand the real-world relavence.\n",
        "\n",
        "## Submission details\n",
        "To submit your homework, please save a PDF copy of your notebook (make sure all the cells are run correctly, and the correct outputs are displayed), and submit via Canvas."
      ],
      "metadata": {
        "id": "ZlHPHXM-BjsW"
      }
    },
    {
      "cell_type": "code",
      "source": [
        "import jax\n",
        "import jax.numpy as jnp\n",
        "import numpy as np\n",
        "from jax.typing import ArrayLike\n",
        "import matplotlib.pyplot as plt"
      ],
      "metadata": {
        "id": "HiXNkf-3BnGj"
      },
      "execution_count": null,
      "outputs": []
    },
    {
      "cell_type": "markdown",
      "source": [
        "## Problem 1"
      ],
      "metadata": {
        "id": "zucTOJz_BwEZ"
      }
    },
    {
      "cell_type": "markdown",
      "source": [
        "### (a) (i)\n",
        "\n",
        "$ m_r - 1 = 1: $\n",
        "\n",
        "$$ \\mathcal{L}_f b(z) =\n",
        "\\begin{bmatrix} 2x \\\\ 2y \\\\ 0 \\\\ 0 \\end{bmatrix}^T \\begin{bmatrix} vcos \\theta \\\\ vsin \\theta \\\\ 0 \\\\ 0 \\end{bmatrix} = 2v(xcos \\theta + y sin \\theta) $$\n",
        "\n",
        "$$ \\mathcal{L}_g \\mathcal{L}_f b(z) = \\begin{bmatrix} 2vcos \\theta \\\\ 2vsin \\theta \\\\ 2v(-xsin \\theta + y cos \\theta) \\\\ 2(xcos \\theta + y sin \\theta) \\end{bmatrix}^T \\begin{bmatrix} 0 \\\\ 0 \\\\ 1 \\\\ 0 \\end{bmatrix} \\neq 0 $$\n",
        "\n",
        "$ m_r - 2 = 0: $\n",
        "\n",
        "$$ \\mathcal{L}_g b(z) =\n",
        "\\begin{bmatrix} 2x \\\\ 2y \\\\ 0 \\\\ 0 \\end{bmatrix}^T \\begin{bmatrix} 0 \\\\ 0 \\\\ 1 \\\\ 0 \\end{bmatrix} = 0 $$\n"
      ],
      "metadata": {
        "id": "1HJ932I4B1fQ"
      }
    },
    {
      "cell_type": "markdown",
      "source": [
        "### (a) (ii)\n",
        "\n",
        "$ m_r - 1 = 1: $\n",
        "\n",
        "$$\n",
        "\\mathcal{L}_f b(z) =\n",
        "\\begin{bmatrix} 2x \\\\ 2y \\\\ 0 \\\\ 0 \\end{bmatrix}^T \\begin{bmatrix} vcos \\theta \\\\ vsin \\theta \\\\ 0 \\\\ 0 \\end{bmatrix} = 2v(xcos \\theta + y sin \\theta)\n",
        "$$\n",
        "\n",
        "$$ \\mathcal{L}_g \\mathcal{L}_f b(z) = (\\nabla \\mathcal{L}_f b(z))^T \\begin{bmatrix} 0 \\\\ 0 \\\\ 0 \\\\ 1 \\end{bmatrix} \\neq 0 $$\n",
        "\n",
        "$ m_r - 2 = 0: $\n",
        "\n",
        "$$ \\mathcal{L}_g b(z) =\n",
        "\\begin{bmatrix} 2x \\\\ 2y \\\\ 0 \\\\ 0 \\end{bmatrix}^T \\begin{bmatrix} 0 \\\\ 0 \\\\ 0 \\\\ 1 \\end{bmatrix} = 0 $$"
      ],
      "metadata": {
        "id": "xRfFdUiwB1k9"
      }
    },
    {
      "cell_type": "markdown",
      "source": [
        "### (a) (iii)\n",
        "\n",
        "$ m_r - 1 = 1: $\n",
        "\n",
        "$$ \\mathcal{L}_f V_1(z) =\n",
        "\\begin{bmatrix} 2(x-4) \\\\ 2y \\\\ 0 \\\\ 0 \\end{bmatrix}^T \\begin{bmatrix} vcos \\theta \\\\ vsin \\theta \\\\ 0 \\\\ 0 \\end{bmatrix} = 2v[(x - 4)cos \\theta + y sin \\theta] $$\n",
        "\n",
        "$$ \\mathcal{L}_g \\mathcal{L}_f V_1(z) = \\begin{bmatrix} 2vcos \\theta \\\\ 2vsin \\theta \\\\ 2v[(4 - x)sin \\theta + y cos \\theta] \\\\ 2[(x - 4)cos \\theta + y sin \\theta] \\end{bmatrix}^T \\begin{bmatrix} 0 \\\\ 0 \\\\ 1 \\\\ 0 \\end{bmatrix} \\neq 0 $$\n",
        "\n",
        "$ m_r - 2 = 0: $\n",
        "\n",
        "$$ \\mathcal{L}_g V_1(z) =\n",
        "\\begin{bmatrix} 2(x-4) \\\\ 2y \\\\ 0 \\\\ 0 \\end{bmatrix}^T \\begin{bmatrix} 0 \\\\ 0 \\\\ 1 \\\\ 0 \\end{bmatrix} = 0 $$\n"
      ],
      "metadata": {
        "id": "C60FoBG4B1nm"
      }
    },
    {
      "cell_type": "markdown",
      "source": [
        "### (a) (iv)\n",
        "\n",
        "$ m_r - 1 = 1: $\n",
        "\n",
        "$$ \\mathcal{L}_f V_1(z) =\n",
        "\\begin{bmatrix} 2(x-4) \\\\ 2y \\\\ 0 \\\\ 0 \\end{bmatrix}^T \\begin{bmatrix} vcos \\theta \\\\ vsin \\theta \\\\ 0 \\\\ 0 \\end{bmatrix} = 2v[(x - 4)cos \\theta + y sin \\theta] $$\n",
        "\n",
        "$$ \\mathcal{L}_g \\mathcal{L}_f V_1(z) = (\\nabla \\mathcal{L}_f V_1(z))^T \\begin{bmatrix} 0 \\\\ 0 \\\\ 0 \\\\ 1 \\end{bmatrix} \\neq 0 $$\n",
        "\n",
        "$ m_r - 2 = 0: $\n",
        "\n",
        "$$ \\mathcal{L}_g V_1(z) =\n",
        "\\begin{bmatrix} 2(x-4) \\\\ 2y \\\\ 0 \\\\ 0 \\end{bmatrix}^T \\begin{bmatrix} 0 \\\\ 0 \\\\ 0 \\\\ 1 \\end{bmatrix} = 0 $$"
      ],
      "metadata": {
        "id": "jSfcZ0Y7B1qH"
      }
    },
    {
      "cell_type": "markdown",
      "source": [
        "### (a) (v)\n",
        "\n",
        "$ m_r - 1 = 0: $\n",
        "\n",
        "$$ \\mathcal{L}_g V_2(z) =\n",
        "\\begin{bmatrix} \\frac{2y[\\theta + tan^{-1}(\\frac{y}{4-x})]}{x^2 - 8x + y^2 +16} \\\\ \\frac{2[\\theta + tan^{-1}(\\frac{y}{4-x})]}{(4-x)(\\frac{y^2}{(4-x)^2} + 1)} \\\\ 2[\\theta + tan^{-1}(\\frac{y}{4-x})] \\\\ 0 \\end{bmatrix}^T \\begin{bmatrix} 0 \\\\ 0 \\\\ 1 \\\\ 0 \\end{bmatrix} \\neq 0 $$"
      ],
      "metadata": {
        "id": "KKkIz8LaB1sn"
      }
    },
    {
      "cell_type": "markdown",
      "source": [
        "### (a) (vi)\n",
        "\n",
        "$ m_r - 1 = 1: $\n",
        "\n",
        "$$ \\mathcal{L}_f V_2(z) =\n",
        "\\begin{bmatrix} \\frac{2y[\\theta + tan^{-1}(\\frac{y}{4-x})]}{x^2 - 8x + y^2 +16} \\\\ \\frac{2[\\theta + tan^{-1}(\\frac{y}{4-x})]}{(4-x)(\\frac{y^2}{(4-x)^2} + 1)} \\\\ 2[\\theta + tan^{-1}(\\frac{y}{4-x})] \\\\ 0 \\end{bmatrix}^T \\begin{bmatrix} vcos \\theta \\\\ vsin \\theta \\\\ 0 \\\\ 0 \\end{bmatrix} $$\n",
        "\n",
        "$$ \\mathcal{L}_g \\mathcal{L}_f V_2(z) = (\\nabla \\mathcal{L}_f V_2(z))^T  \\begin{bmatrix} 0 \\\\ 0 \\\\ 0 \\\\ 1 \\end{bmatrix} \\neq 0 $$\n",
        "\n",
        "$ m_r - 2 = 0: $\n",
        "\n",
        "$$ \\mathcal{L}_g V_2(z) =\n",
        "\\begin{bmatrix} \\frac{2y[\\theta + tan^{-1}(\\frac{y}{4-x})]}{x^2 - 8x + y^2 +16} \\\\ \\frac{2[\\theta + tan^{-1}(\\frac{y}{4-x})]}{(4-x)(\\frac{y^2}{(4-x)^2} + 1)} \\\\ 2[\\theta + tan^{-1}(\\frac{y}{4-x})] \\\\ 0 \\end{bmatrix}^T \\begin{bmatrix} 0 \\\\ 0 \\\\ 0 \\\\ 1 \\end{bmatrix} = 0 $$"
      ],
      "metadata": {
        "id": "9_s8eKU6B1ux"
      }
    },
    {
      "cell_type": "markdown",
      "source": [
        "### (b)"
      ],
      "metadata": {
        "id": "P4TIj1LXB1xR"
      }
    },
    {
      "cell_type": "code",
      "source": [
        "# Here is a class describing a dynamically extended unicycle model.\n",
        "# It will be useful to test code in this problem\n",
        "# It will be used to test your code in the later problems.\n",
        "\n",
        "class DynamicallyExtendedUnicycle:\n",
        "\n",
        "  def __call__(self, state, control):\n",
        "    return self.drift_dynamics(state) + self.control_matrix(state) @ control\n",
        "\n",
        "  def drift_dynamics(self, state: ArrayLike) -> tuple:\n",
        "    '''\n",
        "    The \"drift\" term which is the nonlinear term that does not depend on control\n",
        "    Takes state as an input\n",
        "    '''\n",
        "    _, _, theta, v = state\n",
        "    return jnp.array([v * jnp.cos(theta),\n",
        "                    v * jnp.sin(theta),\n",
        "                    0.,\n",
        "                    0.])\n",
        "\n",
        "  def control_matrix(self, state: ArrayLike):\n",
        "    '''\n",
        "    The control matrix B(x) assuming a control affine system.\n",
        "    In general, it may be state depedent, thus takes state as an input\n",
        "    '''\n",
        "    return jnp.array([[0, 0.],\n",
        "                    [0, 0.],\n",
        "                    [jnp.pi/2, 0.],\n",
        "                    [0., 3]])\n",
        "\n",
        "\n",
        "dynamics = DynamicallyExtendedUnicycle()"
      ],
      "metadata": {
        "id": "2NMHJYdln-Oi"
      },
      "execution_count": null,
      "outputs": []
    },
    {
      "cell_type": "code",
      "source": [
        "def barrier_function(state, r=2):\n",
        "  x, y, theta, v = state\n",
        "  return x**2 + y**2 - r**2\n",
        "\n",
        "\n",
        "def control_lyapunov_function_1(state, goal=[4.,0]):\n",
        "  x, y, _, _ = state\n",
        "  xg, yg = goal\n",
        "  return (x - xg)**2 + (y - yg)**2\n",
        "\n",
        "def control_lyapunov_function_2(state, goal=[4.,0]):\n",
        "  x, y, theta, _ = state\n",
        "  xg, yg = goal\n",
        "  return (theta - jnp.arctan2(yg - y, xg - x))**2"
      ],
      "metadata": {
        "id": "xcNwqkAhAbbk"
      },
      "execution_count": null,
      "outputs": []
    },
    {
      "cell_type": "markdown",
      "source": [
        "### (b) (i)\n",
        "Write a function that computes the Lie derivative for any function $h:\\mathbb{R}^n \\rightarrow \\mathbb{R}$, any vector field $v$, and evaluated at any state $x\\in\\mathbb{R}^n$."
      ],
      "metadata": {
        "id": "V4dWlpJloCue"
      }
    },
    {
      "cell_type": "code",
      "source": [
        "## Put your code here\n",
        "\n",
        "def lie_derivative(func, vector_field_func, state):\n",
        "  '''\n",
        "  func: a function that takes in a state and returns a scalar value.\n",
        "          i.e., func(state) = scalar\n",
        "  vector_field_func: a function that takes in a state and returns a\n",
        "                      vector/matrix. i.e., func(state) = vector/matrix\n",
        "  state: an array describing the state which is the input to func and\n",
        "          vector_field_func\n",
        "  '''\n",
        "\n",
        "\n",
        "\n",
        "  ## put your code here##\n",
        "  return jax.grad(func)(state) @ vector_field_func(state)\n",
        "  #######################\n",
        "\n",
        "\n"
      ],
      "metadata": {
        "id": "nkO91l_gCoWj"
      },
      "execution_count": null,
      "outputs": []
    },
    {
      "cell_type": "code",
      "source": [
        "### DO NOT ALTER, but please run this cell for your submission ###\n",
        "test_state = jnp.array([5.0, 5.0, 0.1, 1.0])\n",
        "# made up vector field to test function\n",
        "vector_field_func = lambda state: jnp.array([[0., 0., 1., 0.],\n",
        "                                             [0., 0., 0., 1.],\n",
        "                                             [1., 0., 0., 0.],\n",
        "                                             [0., 1., 0., 0.]])\n",
        "# testing functionality\n",
        "print(\"Lie Derivative: \", lie_derivative(barrier_function, vector_field_func, test_state))\n",
        "######################\n"
      ],
      "metadata": {
        "id": "a7HqBD0sh58E",
        "colab": {
          "base_uri": "https://localhost:8080/"
        },
        "outputId": "6304048b-1e5e-49da-8133-f798af9a46c2"
      },
      "execution_count": null,
      "outputs": [
        {
          "output_type": "stream",
          "name": "stderr",
          "text": [
            "WARNING:jax._src.xla_bridge:No GPU/TPU found, falling back to CPU. (Set TF_CPP_MIN_LOG_LEVEL=0 and rerun for more info.)\n"
          ]
        },
        {
          "output_type": "stream",
          "name": "stdout",
          "text": [
            "Lie Derivative:  [ 0.  0. 10. 10.]\n"
          ]
        }
      ]
    },
    {
      "cell_type": "markdown",
      "source": [
        "# (b) (ii)"
      ],
      "metadata": {
        "id": "8_i0nOQnhK2g"
      }
    },
    {
      "cell_type": "code",
      "source": [
        "alpha1 = lambda x: 2 * x\n",
        "alpha2 = lambda x: 2 * x\n"
      ],
      "metadata": {
        "id": "3IVzgXhulLq3"
      },
      "execution_count": null,
      "outputs": []
    },
    {
      "cell_type": "code",
      "source": [
        "## put your code here ##\n",
        "# refer to pdf to see which names correspond to which terms.\n",
        "# Lfb and Lf2b has been filled out for you to help get you started\n",
        "Lfb = lambda state: lie_derivative(barrier_function, dynamics.drift_dynamics, state)\n",
        "Lf2b = lambda state: lie_derivative(Lfb, dynamics.drift_dynamics, state)\n",
        "LgLfb = lambda state: lie_derivative(Lfb, dynamics.control_matrix, state)\n",
        "a1b = lambda state: alpha1(barrier_function(state))\n",
        "Lfa1b = lambda state: lie_derivative(a1b, dynamics.drift_dynamics, state)\n",
        "a2_term = lambda state: alpha2(Lfb(state) + a1b(state))\n"
      ],
      "metadata": {
        "id": "-hIWmAjniZ52"
      },
      "execution_count": null,
      "outputs": []
    },
    {
      "cell_type": "code",
      "source": [
        "### DO NOT ALTER, but please run this cell for your submission ###\n",
        "test_state = jnp.array([5.0, 5.0, 0.1, 1.0])\n",
        "print(\"Lfb: \", Lfb(test_state))\n",
        "print(\"Lf2b: \", Lf2b(test_state))\n",
        "print(\"LgLfb: \", LgLfb(test_state))\n",
        "print(\"Lfa1b: \", Lfa1b(test_state))\n",
        "print(\"a2_term: \", a2_term(test_state))\n",
        "######################\n"
      ],
      "metadata": {
        "id": "j8gaisHSBu8t",
        "colab": {
          "base_uri": "https://localhost:8080/"
        },
        "outputId": "11a92674-571a-4af8-c244-7496a35a3a08"
      },
      "execution_count": null,
      "outputs": [
        {
          "output_type": "stream",
          "name": "stdout",
          "text": [
            "Lfb:  10.948376\n",
            "Lf2b:  2.0\n",
            "LgLfb:  [14.06131  32.845127]\n",
            "Lfa1b:  21.896751\n",
            "a2_term:  205.89676\n"
          ]
        }
      ]
    },
    {
      "cell_type": "markdown",
      "source": [
        "# (b) (iii)"
      ],
      "metadata": {
        "id": "Jgud4s5vlYI-"
      }
    },
    {
      "cell_type": "code",
      "source": [
        "beta1 = lambda x: 0.5 * x\n",
        "beta2 = lambda x: 0.5 * x"
      ],
      "metadata": {
        "id": "lmk1cklEk751"
      },
      "execution_count": null,
      "outputs": []
    },
    {
      "cell_type": "code",
      "source": [
        "## put your code here ##\n",
        "# refer to pdf to see which names correspond to which terms.\n",
        "LfV1 = lambda state: lie_derivative(control_lyapunov_function_1, dynamics.drift_dynamics, state)\n",
        "Lf2V1 = lambda state: lie_derivative(LfV1, dynamics.drift_dynamics, state)\n",
        "LgLfV1 = lambda state: lie_derivative(LfV1, dynamics.control_matrix, state)\n",
        "a1V1 = lambda state: alpha1(control_lyapunov_function_1(state))\n",
        "Lfb1V1 = lambda state: lie_derivative(a1V1, dynamics.drift_dynamics, state)\n",
        "b2_term = lambda state: alpha2(LfV1(state) + a1V1(state))"
      ],
      "metadata": {
        "id": "bl2A72pVlhDi"
      },
      "execution_count": null,
      "outputs": []
    },
    {
      "cell_type": "code",
      "source": [
        "### DO NOT ALTER, but please run this cell for your submission ###\n",
        "test_state = jnp.array([5.0, 5.0, 0.1, 1.0])\n",
        "print(\"LfV1: \", LfV1(test_state))\n",
        "print(\"Lf2V1: \", Lf2V1(test_state))\n",
        "print(\"LgLfV1: \", LgLfV1(test_state))\n",
        "print(\"Lfb1V1: \", Lfb1V1(test_state))\n",
        "print(\"b2_term: \", b2_term(test_state))\n",
        "######################"
      ],
      "metadata": {
        "id": "v2DX8KIynXpH",
        "colab": {
          "base_uri": "https://localhost:8080/"
        },
        "outputId": "cfa4fddf-345f-4621-daab-565f07045239"
      },
      "execution_count": null,
      "outputs": [
        {
          "output_type": "stream",
          "name": "stdout",
          "text": [
            "LfV1:  2.9883425\n",
            "Lf2V1:  2.0\n",
            "LgLfV1:  [15.315853  8.965028]\n",
            "Lfb1V1:  5.976685\n",
            "b2_term:  109.976685\n"
          ]
        }
      ]
    },
    {
      "cell_type": "markdown",
      "source": [
        "### (b) (iv)"
      ],
      "metadata": {
        "id": "W2oMppt5ngaH"
      }
    },
    {
      "cell_type": "code",
      "source": [
        "## put your code here ##\n",
        "# refer to pdf to see which names correspond to which terms.\n",
        "LfV2 = lambda state: lie_derivative(control_lyapunov_function_2, dynamics.drift_dynamics, state)\n",
        "LgV2 = lambda state: lie_derivative(control_lyapunov_function_2, dynamics.control_matrix, state)"
      ],
      "metadata": {
        "id": "D1J3HbuingJG"
      },
      "execution_count": null,
      "outputs": []
    },
    {
      "cell_type": "code",
      "source": [
        "### DO NOT ALTER, but please run this cell for your submission ###\n",
        "test_state = jnp.array([5.0, 5.0, 0.1, 1.0])\n",
        "print(\"LfV2: \", LfV2(test_state))\n",
        "print(\"LgV2: \", LgV2(test_state))\n",
        "######################"
      ],
      "metadata": {
        "id": "vXiW1R1VAKt9",
        "colab": {
          "base_uri": "https://localhost:8080/"
        },
        "outputId": "fd34d053-568f-4926-b7e5-f41ace58c834"
      },
      "execution_count": null,
      "outputs": [
        {
          "output_type": "stream",
          "name": "stdout",
          "text": [
            "LfV2:  0.70059884\n",
            "LgV2:  [5.8690977 0.       ]\n"
          ]
        }
      ]
    },
    {
      "cell_type": "markdown",
      "source": [
        "# Problem 2\n"
      ],
      "metadata": {
        "id": "GPlKlq4PoTX3"
      }
    },
    {
      "cell_type": "markdown",
      "source": [
        "## (a)\n",
        "What is the greedy path and corresponding total cost?"
      ],
      "metadata": {
        "id": "OZzFBOs-OSUL"
      }
    },
    {
      "cell_type": "markdown",
      "source": [
        "Sequence of up\\down action and its corresponding cost:\n",
        "\n",
        "$$\n",
        "\\begin{matrix}\n",
        "\\nearrow & \\nearrow & \\searrow & \\nearrow & \\searrow & \\searrow \\\\\n",
        "5 & 6 & 6 & 5 & 8 & 10 & \\Longrightarrow & Total \\; cost = 40\n",
        "\\end{matrix}\n",
        "$$"
      ],
      "metadata": {
        "id": "4Jk7KSErOZ3W"
      }
    },
    {
      "cell_type": "markdown",
      "source": [
        "## (b)\n",
        "In your submission, attach a figure with all the values and corresponding optimal action noted on the diagram. Using your dynamic programming result, find the shortest path from $A$ to $B$. Write up the optimal action to take at each node starting from $A$ and the optimal total cost. E.g., up, up, down, ..."
      ],
      "metadata": {
        "id": "itLtNF1RogGc"
      }
    },
    {
      "cell_type": "markdown",
      "source": [
        "Sequence of up\\down action and its corresponding cost:\n",
        "\n",
        "$$\n",
        "\\begin{matrix}\n",
        "\\nearrow & \\nearrow & \\searrow & \\nearrow & \\searrow & \\searrow \\\\\n",
        "5 & 6 & 6 & 5 & 8 & 10 & \\Longrightarrow & Total \\; cost = 40\n",
        "\\end{matrix}\n",
        "$$\n",
        "\n",
        "(Same path as a)"
      ],
      "metadata": {
        "id": "7PKN5zUKok48"
      }
    },
    {
      "cell_type": "code",
      "source": [
        "\n",
        "from google.colab import drive\n",
        "drive.mount('/content/drive')"
      ],
      "metadata": {
        "id": "sM_62G87F-eD",
        "colab": {
          "base_uri": "https://localhost:8080/"
        },
        "outputId": "fd92d43f-990a-4289-a17e-4700e59f2d4a"
      },
      "execution_count": null,
      "outputs": [
        {
          "output_type": "stream",
          "name": "stdout",
          "text": [
            "Mounted at /content/drive\n"
          ]
        }
      ]
    },
    {
      "cell_type": "code",
      "source": [
        "%cd /content/drive/MyDrive/ME 548\n"
      ],
      "metadata": {
        "id": "3TOXVXvOHmlx",
        "colab": {
          "base_uri": "https://localhost:8080/"
        },
        "outputId": "9747154d-c76b-426e-af87-1251559d86aa"
      },
      "execution_count": null,
      "outputs": [
        {
          "output_type": "stream",
          "name": "stdout",
          "text": [
            "/content/drive/MyDrive/ME 548\n"
          ]
        }
      ]
    },
    {
      "cell_type": "code",
      "source": [
        "import matplotlib.pyplot as plt\n",
        "from PIL import Image\n",
        "img1 = Image.open('IMG_0538.JPG')\n",
        "img2 = Image.open('IMG_0539.JPG')\n",
        "\n",
        "fig, (ax1, ax2) = plt.subplots(ncols=2, figsize=(10, 5))\n",
        "ax1.imshow(img1)\n",
        "ax1.axis('off')\n",
        "ax2.imshow(img2)\n",
        "ax2.axis('off')\n",
        "plt.show()"
      ],
      "metadata": {
        "id": "QOiJ-5wfHvU1",
        "colab": {
          "base_uri": "https://localhost:8080/",
          "height": 179
        },
        "outputId": "d6e6d99b-5565-4242-aa84-628755c9e462"
      },
      "execution_count": null,
      "outputs": [
        {
          "output_type": "display_data",
          "data": {
            "text/plain": [
              "<Figure size 1000x500 with 2 Axes>"
            ],
            "image/png": "[encoded data removed]"
          },
          "metadata": {}
        }
      ]
    },
    {
      "cell_type": "markdown",
      "source": [
        "## (c)"
      ],
      "metadata": {
        "id": "HnKVW-2tok2s"
      }
    },
    {
      "cell_type": "markdown",
      "source": [
        "\\# of computations by an exhaustive search algorithm (n segments):\n",
        "\n",
        "$$ \\#_e = n(n  + 2) $$\n",
        "\n",
        "\\# of computations by a DP algorithm (n segments):\n",
        "\n",
        "$$ \\#_{DP} = \\frac{(2n)!}{n!n!} $$"
      ],
      "metadata": {
        "id": "xSjq7NEKL_oA"
      }
    }
  ]
}