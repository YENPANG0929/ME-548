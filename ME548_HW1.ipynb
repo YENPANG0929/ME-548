{
  "nbformat": 4,
  "nbformat_minor": 0,
  "metadata": {
    "colab": {
      "provenance": []
    },
    "kernelspec": {
      "name": "python3",
      "display_name": "Python 3"
    },
    "language_info": {
      "name": "python"
    }
  },
  "cells": [
    {
      "cell_type": "markdown",
      "source": [
        "# AA/EE/ME 548: Homework 01\n",
        "\n",
        "## Name: Yenpang Huang\n",
        "\n",
        "### Homework feedback:\n",
        "\n",
        "**What was the coolest thing(s) you learned from lectures/homework that you didn't know previously?**\n",
        "\n",
        "Coding\n",
        "\n",
        "**Which problem did you find the most challenging and why?**\n",
        "\n",
        "Problem 4. Starter code is helpful but also makes it more challenging.\n",
        "\n",
        "**Approximate how long did you spend on this homework?**\n",
        "\n",
        "A week\n",
        "\n",
        "## Submission details\n",
        "To submit your homework, please save a PDF copy of your notebook (make sure all the cells are run correctly, and the correct outputs are displayed), and submit via Canvas."
      ],
      "metadata": {
        "id": "6nyM-4gj5rXx"
      }
    },
    {
      "cell_type": "code",
      "source": [
        "import jax\n",
        "import jax.numpy as jnp\n",
        "import numpy as np\n",
        "from jax.typing import ArrayLike\n",
        "import matplotlib.pyplot as plt\n",
        "import sympy as sym"
      ],
      "metadata": {
        "id": "iQypn7u13elt"
      },
      "execution_count": null,
      "outputs": []
    },
    {
      "cell_type": "markdown",
      "source": [
        "## Problem 1"
      ],
      "metadata": {
        "id": "uABbwc_avrq1"
      }
    },
    {
      "cell_type": "code",
      "source": [
        "w = 1\n",
        "s = w*1j\n",
        "A = np.array([[1/(s+1), 2/(s+1)], [(s**2+1)/(s+10), 1/(s**2+2)]])\n",
        "[U, S, V] = jnp.linalg.svd(A)"
      ],
      "metadata": {
        "id": "r7vmbJevRzU2"
      },
      "execution_count": null,
      "outputs": []
    },
    {
      "cell_type": "markdown",
      "source": [
        "The singular values calculated from SVD are\n",
        "$$ \\sigma_{1} = 0.386 $$\n",
        "$$ \\sigma_{2} = 1.831 $$\n",
        "this leads to\n",
        "$$ 10\\cdot\\sigma_{1} \\leq M \\leq 10\\cdot\\sigma_{2} $$\n",
        "and since\n",
        "$$ \\sqrt{\\mu_1^2+\\mu_2^2} \\leq 10 $$\n",
        "$$ 0 \\leq M \\leq 18.31 $$\n",
        "\n",
        "(a) Yes, the response satisfy the conditions.\n",
        "\n",
        "(b) No, $y_2(t)$ has incorrect frequency.\n",
        "\n",
        "(c) Yes, the response satisfy the conditions.\n",
        "\n",
        "(d) No, the response has M $\\approx $ 19.02 which is outside the range.\n",
        "\n",
        "(e) Yes, the response satisfy the conditions.\n",
        "\n",
        "(f) Yes, the response satisfy the conditions.\n"
      ],
      "metadata": {
        "id": "iRSMkjpu1w9H"
      }
    },
    {
      "cell_type": "markdown",
      "source": [
        "# Problem 2"
      ],
      "metadata": {
        "id": "aILSm7vc2FzK"
      }
    },
    {
      "cell_type": "markdown",
      "source": [
        "$$ ||\\mu|| = \\sqrt{3^2+4^2} = 5 $$\n",
        "At $ \\omega = 30$, singular values are -20dB $ \\rightarrow \\sigma_{min} = 0.1 $ and 0dB $ \\rightarrow \\sigma_{max} = 1 $\\\n",
        "Hence,\n",
        "$$ 0.5 \\leq M \\leq 5 $$\n",
        "\n",
        "(a) Yes, the response satisfy the conditions.\n",
        "\n",
        "(b) No, the response has M $ \\approx $ 5.39 which is outside the range.\n",
        "\n",
        "(c) No, the response has M = 0.1 which is outside the range.\n",
        "\n",
        "(d) Yes, the response satisfy the conditions.\n",
        "\n",
        "(e) Yes, the response satisfy the conditions."
      ],
      "metadata": {
        "id": "mcDdh3Hj2MRm"
      }
    },
    {
      "cell_type": "markdown",
      "source": [
        "# Problem 3"
      ],
      "metadata": {
        "id": "BB3sVBGr2N54"
      }
    },
    {
      "cell_type": "markdown",
      "source": [
        "## 3(a)\n",
        "\n",
        "[enter your answer here]\n",
        "\n",
        "$ x_{t+1} = \\begin{bmatrix}\n",
        "x(t) + v \\cdot cos(\\theta) \\cdot \\Delta t + 0.5 \\cdot a \\cdot cos(\\theta)(\\Delta t)^2 \\\\\n",
        "y(t) + v \\cdot sin(\\theta) \\cdot \\Delta t + 0.5 \\cdot a \\cdot sin(\\theta)(\\Delta t)^2 \\\\\n",
        "\\theta \\\\\n",
        "v + a \\cdot \\Delta t \\\\\n",
        "\\end{bmatrix} $"
      ],
      "metadata": {
        "id": "wHfveAi82a_0"
      }
    },
    {
      "cell_type": "markdown",
      "source": [
        "## 3(b)\n",
        "\n",
        "In the next cell, you are provided a control sequence `controls` which is `T` time steps long, and an `initial_state` value."
      ],
      "metadata": {
        "id": "9ohfEroE3BBL"
      }
    },
    {
      "cell_type": "code",
      "source": [
        "## DO NOT ALTER ##\n",
        "T = 40\n",
        "w_sequence = jnp.sin(jnp.linspace(0, jnp.pi, T))  # w varies sinusoidally over time\n",
        "controls = jnp.stack([w_sequence, jnp.zeros(T)], 1)  # a is zero (constant speed), size [T, 2] array\n",
        "initial_state = jnp.array([0, 0, 0, 2])  # initial state, size [4,] array\n",
        "#####################"
      ],
      "metadata": {
        "id": "VV9R_62z2aM9"
      },
      "execution_count": null,
      "outputs": []
    },
    {
      "cell_type": "code",
      "source": [
        "## [put your code here]\n",
        ""
      ],
      "metadata": {
        "id": "t0GKMdEBJC8o"
      },
      "execution_count": null,
      "outputs": []
    },
    {
      "cell_type": "markdown",
      "source": [
        "## 3(b) `t=0.01`"
      ],
      "metadata": {
        "id": "Hl7ttyI_4sF5"
      }
    },
    {
      "cell_type": "code",
      "source": [
        "# [put your code here]\n",
        "# label your plots clearly, including a legend describing which trajectory corresponds to zero-order hold or euler integration\n",
        "\n",
        "dt = 0.01\n",
        "\n",
        "x = np.zeros(T+1)\n",
        "y = np.zeros(T+1)\n",
        "theta = np.zeros(T+1)\n",
        "v = np.zeros(T+1)\n",
        "\n",
        "x[0] = initial_state[0]\n",
        "y[0] = initial_state[1]\n",
        "theta[0] = initial_state[2]\n",
        "v[0] = initial_state[3]\n",
        "\n",
        "smallw = controls[:, 0] < 10**(-3)\n",
        "index = np.where(smallw)[0]\n",
        "\n",
        "for i in range(T):\n",
        "    w = controls[i, 0]\n",
        "    a = controls[i, 1]\n",
        "\n",
        "    if i in index:\n",
        "      x[i+1] = x[i] + v[i]*np.cos([theta[i]])*dt + 0.5*a*np.cos([theta[i]])*(dt**2)\n",
        "      y[i+1] = y[i] + v[i]*np.sin([theta[i]])*dt + 0.5*a*np.sin([theta[i]])*(dt**2)\n",
        "      theta[i+1] = theta[i]\n",
        "      v[i+1] = v[i] + a*dt\n",
        "\n",
        "    else:\n",
        "      x[i+1] = (x[i] + v[i]*(np.sin([theta[i]+w*dt]) - np.sin(theta[i]))/w +\n",
        "                (a*np.sin([theta[i]+w*dt]))*dt/w + a/w*(np.cos([theta[i]+w*dt]) - np.cos(theta[i]))/w)\n",
        "\n",
        "      y[i+1] = (y[i] - v[i]*(np.cos([theta[i]+w*dt]) - np.cos(theta[i]))/w -\n",
        "                (a*np.sin([theta[i]+w*dt]))*dt/w + a/w*(np.sin([theta[i]+w*dt]) - np.sin(theta[i]))/w)\n",
        "\n",
        "      theta[i+1] = theta[i] + w*dt\n",
        "      v[i+1] = v[i] + a*dt\n",
        "################################################################################\n",
        "\n",
        "x_ = np.zeros(T+1)\n",
        "y_ = np.zeros(T+1)\n",
        "theta_ = np.zeros(T+1)\n",
        "v_ = np.zeros(T+1)\n",
        "\n",
        "x_[0] = initial_state[0]\n",
        "y_[0] = initial_state[1]\n",
        "theta_[0] = initial_state[2]\n",
        "v_[0] = initial_state[3]\n",
        "\n",
        "for k in range(T):\n",
        "    w_ = controls[k, 0]\n",
        "    a_ = controls[k, 1]\n",
        "\n",
        "    x_[k+1] = x_[k] + dt*v_[k]*np.cos([theta_[k]])\n",
        "    y_[k+1] = y_[k] + dt*v_[k]*np.sin([theta_[k]])\n",
        "    theta_[k+1] = theta_[k] + w_*dt\n",
        "    v_[k+1] = v_[k] + a_*dt\n",
        "\n",
        "plt.plot(x, y, x_, y_)\n",
        "plt.title('$ \\Delta t = 0.01 $')\n",
        "plt.legend(['ZOH', 'Euler'])\n",
        "plt.xlabel('x')\n",
        "plt.ylabel('y')\n",
        "plt.grid()"
      ],
      "metadata": {
        "id": "hPqrTzf44kIh",
        "colab": {
          "base_uri": "https://localhost:8080/",
          "height": 472
        },
        "outputId": "c8188238-af62-4299-8fff-d49e07d4545c"
      },
      "execution_count": null,
      "outputs": [
        {
          "output_type": "display_data",
          "data": {
            "text/plain": [
              "<Figure size 640x480 with 1 Axes>"
            ],
            "image/png": "[encoded data removed]"
          },
          "metadata": {}
        }
      ]
    },
    {
      "cell_type": "markdown",
      "source": [
        "## 3(b) `t=0.1`"
      ],
      "metadata": {
        "id": "_eco7lTw4xu2"
      }
    },
    {
      "cell_type": "code",
      "source": [
        "# [put your code here]\n",
        "# label your plots clearly, including a legend describing which trajectory corresponds to zero-order hold or euler integration\n",
        "\n",
        "dt = 0.1\n",
        "\n",
        "x = np.zeros(T+1)\n",
        "y = np.zeros(T+1)\n",
        "theta = np.zeros(T+1)\n",
        "v = np.zeros(T+1)\n",
        "\n",
        "x[0] = initial_state[0]\n",
        "y[0] = initial_state[1]\n",
        "theta[0] = initial_state[2]\n",
        "v[0] = initial_state[3]\n",
        "\n",
        "smallw = controls[:, 0] < 10**(-3)\n",
        "index = np.where(smallw)[0]\n",
        "\n",
        "for i in range(T):\n",
        "    w = controls[i, 0]\n",
        "    a = controls[i, 1]\n",
        "\n",
        "    if i in index:\n",
        "      x[i+1] = x[i] + v[i]*np.cos([theta[i]])*dt + 0.5*a*np.cos([theta[i]])*(dt**2)\n",
        "      y[i+1] = y[i] + v[i]*np.sin([theta[i]])*dt + 0.5*a*np.sin([theta[i]])*(dt**2)\n",
        "      theta[i+1] = theta[i]\n",
        "      v[i+1] = v[i] + a*dt\n",
        "\n",
        "    else:\n",
        "      x[i+1] = (x[i] + v[i]*(np.sin([theta[i]+w*dt]) - np.sin(theta[i]))/w +\n",
        "                (a*np.sin([theta[i]+w*dt]))*dt/w + a/w*(np.cos([theta[i]+w*dt]) - np.cos(theta[i]))/w)\n",
        "\n",
        "      y[i+1] = (y[i] - v[i]*(np.cos([theta[i]+w*dt]) - np.cos(theta[i]))/w -\n",
        "                (a*np.sin([theta[i]+w*dt]))*dt/w + a/w*(np.sin([theta[i]+w*dt]) - np.sin(theta[i]))/w)\n",
        "\n",
        "      theta[i+1] = theta[i] + w*dt\n",
        "      v[i+1] = v[i] + a*dt\n",
        "################################################################################\n",
        "\n",
        "x_ = np.zeros(T+1)\n",
        "y_ = np.zeros(T+1)\n",
        "theta_ = np.zeros(T+1)\n",
        "v_ = np.zeros(T+1)\n",
        "\n",
        "x_[0] = initial_state[0]\n",
        "y_[0] = initial_state[1]\n",
        "theta_[0] = initial_state[2]\n",
        "v_[0] = initial_state[3]\n",
        "\n",
        "for k in range(T):\n",
        "    w_ = controls[k, 0]\n",
        "    a_ = controls[k, 1]\n",
        "\n",
        "    x_[k+1] = x_[k] + dt*v_[k]*np.cos([theta_[k]])\n",
        "    y_[k+1] = y_[k] + dt*v_[k]*np.sin([theta_[k]])\n",
        "    theta_[k+1] = theta_[k] + w_*dt\n",
        "    v_[k+1] = v_[k] + a_*dt\n",
        "\n",
        "plt.plot(x, y, x_, y_)\n",
        "plt.title('$ \\Delta t = 0.1 $')\n",
        "plt.legend(['ZOH', 'Euler'])\n",
        "plt.xlabel('x')\n",
        "plt.ylabel('y')\n",
        "plt.grid()"
      ],
      "metadata": {
        "id": "DMztwRtv4zMT",
        "colab": {
          "base_uri": "https://localhost:8080/",
          "height": 472
        },
        "outputId": "144370de-5d6e-4651-d3d8-4c7c652bcd78"
      },
      "execution_count": null,
      "outputs": [
        {
          "output_type": "display_data",
          "data": {
            "text/plain": [
              "<Figure size 640x480 with 1 Axes>"
            ],
            "image/png": "[encoded data removed]"
          },
          "metadata": {}
        }
      ]
    },
    {
      "cell_type": "markdown",
      "source": [
        "## 3(b) `t=0.5`"
      ],
      "metadata": {
        "id": "wTsGnpDK4zwm"
      }
    },
    {
      "cell_type": "code",
      "source": [
        "# [put your code here]\n",
        "# label your plots clearly, including a legend describing which trajectory corresponds to zero-order hold or euler integration\n",
        "\n",
        "dt = 0.5\n",
        "\n",
        "x = np.zeros(T+1)\n",
        "y = np.zeros(T+1)\n",
        "theta = np.zeros(T+1)\n",
        "v = np.zeros(T+1)\n",
        "\n",
        "x[0] = initial_state[0]\n",
        "y[0] = initial_state[1]\n",
        "theta[0] = initial_state[2]\n",
        "v[0] = initial_state[3]\n",
        "\n",
        "smallw = controls[:, 0] < 10**(-3)\n",
        "index = np.where(smallw)[0]\n",
        "\n",
        "for i in range(T):\n",
        "    w = controls[i, 0]\n",
        "    a = controls[i, 1]\n",
        "\n",
        "    if i in index:\n",
        "      x[i+1] = x[i] + v[i]*np.cos([theta[i]])*dt + 0.5*a*np.cos([theta[i]])*(dt**2)\n",
        "      y[i+1] = y[i] + v[i]*np.sin([theta[i]])*dt + 0.5*a*np.sin([theta[i]])*(dt**2)\n",
        "      theta[i+1] = theta[i]\n",
        "      v[i+1] = v[i] + a*dt\n",
        "\n",
        "    else:\n",
        "      x[i+1] = (x[i] + v[i]*(np.sin([theta[i]+w*dt]) - np.sin(theta[i]))/w +\n",
        "                (a*np.sin([theta[i]+w*dt]))*dt/w + a/w*(np.cos([theta[i]+w*dt]) - np.cos(theta[i]))/w)\n",
        "\n",
        "      y[i+1] = (y[i] - v[i]*(np.cos([theta[i]+w*dt]) - np.cos(theta[i]))/w -\n",
        "                (a*np.sin([theta[i]+w*dt]))*dt/w + a/w*(np.sin([theta[i]+w*dt]) - np.sin(theta[i]))/w)\n",
        "\n",
        "      theta[i+1] = theta[i] + w*dt\n",
        "      v[i+1] = v[i] + a*dt\n",
        "################################################################################\n",
        "\n",
        "x_ = np.zeros(T+1)\n",
        "y_ = np.zeros(T+1)\n",
        "theta_ = np.zeros(T+1)\n",
        "v_ = np.zeros(T+1)\n",
        "\n",
        "x_[0] = initial_state[0]\n",
        "y_[0] = initial_state[1]\n",
        "theta_[0] = initial_state[2]\n",
        "v_[0] = initial_state[3]\n",
        "\n",
        "for k in range(T):\n",
        "    w_ = controls[k, 0]\n",
        "    a_ = controls[k, 1]\n",
        "\n",
        "    x_[k+1] = x_[k] + dt*v_[k]*np.cos([theta_[k]])\n",
        "    y_[k+1] = y_[k] + dt*v_[k]*np.sin([theta_[k]])\n",
        "    theta_[k+1] = theta_[k] + w_*dt\n",
        "    v_[k+1] = v_[k] + a_*dt\n",
        "\n",
        "plt.plot(x, y, x_, y_)\n",
        "plt.title('$ \\Delta t = 0.5 $')\n",
        "plt.legend(['ZOH', 'Euler'])\n",
        "plt.xlabel('x')\n",
        "plt.ylabel('y')\n",
        "plt.grid()"
      ],
      "metadata": {
        "id": "0k8bnVHh40z4",
        "colab": {
          "base_uri": "https://localhost:8080/",
          "height": 472
        },
        "outputId": "f6a57fe7-0be3-4502-97da-d1b4f147c964"
      },
      "execution_count": null,
      "outputs": [
        {
          "output_type": "display_data",
          "data": {
            "text/plain": [
              "<Figure size 640x480 with 1 Axes>"
            ],
            "image/png": "[encoded data removed]"
          },
          "metadata": {}
        }
      ]
    },
    {
      "cell_type": "markdown",
      "source": [
        "## 3(b)\n",
        "The error increases with the size of the time step. The difference between ZOH and Euler's integration for $ \\Delta t = 0.01 $ is larger than $ \\Delta t = 0.5 $ from the plots."
      ],
      "metadata": {
        "id": "JUi6zM4Q5O2t"
      }
    },
    {
      "cell_type": "markdown",
      "source": [
        "# Problem 4"
      ],
      "metadata": {
        "id": "wQuo4N4E5U0K"
      }
    },
    {
      "cell_type": "markdown",
      "source": [
        "## 4(a)\n",
        "\n",
        "$A_t = \\begin{bmatrix}\n",
        "0 & 0 & -v_0 sin(\\theta_0) & cos(\\theta_0) \\\\\n",
        "0 & 0 & v_0 cos(\\theta_0) & sin(\\theta_0) \\\\\n",
        "0 & 0 & 0 & 0 \\\\\n",
        "0 & 0 & 0 & 0 \\\\\n",
        "\\end{bmatrix}$\n",
        "\n",
        "$B_t = \\begin{bmatrix}\n",
        "0 & 0 \\\\\n",
        "0 & 0 \\\\\n",
        "1 & 0 \\\\\n",
        "0 & 1 \\\\\n",
        "\\end{bmatrix}$\n",
        "\n",
        "$C_t =  \\begin{bmatrix}\n",
        "-v_0 \\theta_0 sin(\\theta_0) \\\\\n",
        "v_0 \\theta_0 cos(\\theta_0) \\\\\n",
        "0 \\\\\n",
        "0 \\\\\n",
        "\\end{bmatrix}$"
      ],
      "metadata": {
        "id": "Z1g4mrED6w2L"
      }
    },
    {
      "cell_type": "markdown",
      "source": [
        "## 4(b) Using Jax to perform automatic differentiation"
      ],
      "metadata": {
        "id": "QBSWUKeB7G57"
      }
    },
    {
      "cell_type": "code",
      "source": [
        "def linearize_dynamics_autodifferentiation(dynamics_func, state0: ArrayLike, control0: ArrayLike) -> tuple:\n",
        "  '''\n",
        "  dynamics_func: a function that takes in two inputs, state and control. i.e., dynamics_func(state, control)\n",
        "  HINT: read documentation for jac.jacobian\n",
        "  '''\n",
        "  A = jax.jacfwd(lambda state: dynamics_func(state, control0))(state0)\n",
        "  B = jax.jacfwd(lambda control: dynamics_func(state0, control))(control0)\n",
        "  C = dynamics_func(state0, control0) - A@state0 - B@control0\n",
        "  return A, B, C\n",
        "\n",
        "def linearize_unicycle_dynamics_analytic(dynamics_func, state0: ArrayLike, control0: ArrayLike) -> tuple:\n",
        "  '''\n",
        "  dynamics_func: a function that takes in two inputs, state and control. i.e., dynamics_func(state, control)\n",
        "  '''\n",
        "  # use your answer from 4(a)\n",
        "  A = jnp.array([[0, 0, -state0[3]*jnp.sin(state0[2]), jnp.cos(state0[2])],\n",
        "                [0, 0, state0[3]*jnp.cos(state0[2]), jnp.sin(state0[2])],\n",
        "                [0, 0, 0, 0], [0, 0, 0, 0]])\n",
        "  B = jnp.array([[0, 0], [0, 0], [1, 0], [0, 1]])\n",
        "  C = dynamics_func(state0, control0) - A@state0 - B@control0\n",
        "\n",
        "  return A, B, C\n",
        "\n",
        "def continuous_time_unicycle_dynamics(state: ArrayLike, control: ArrayLike) -> ArrayLike:\n",
        "  xd = state[3]*jnp.cos(state[2])\n",
        "  yd = state[3]*jnp.sin(state[2])\n",
        "  thetad = control[0]\n",
        "  vd = control[1]\n",
        "  return jnp.array([xd, yd, thetad, vd])\n"
      ],
      "metadata": {
        "id": "oEKLkhm_5dR4"
      },
      "execution_count": null,
      "outputs": []
    },
    {
      "cell_type": "code",
      "source": [
        "### DO NOT ALTER, but please run this cell for your submission ###\n",
        "states0 = jnp.array([[0.0, 0.0, 0.0, 2.0],\n",
        "                    [0.0, 0.0, jnp.pi, 5.0],\n",
        "                    [1.0, -1.0, jnp.pi/2, 2.0],\n",
        "                    [-2.0, 3.5, jnp.pi/3, 4.5]])\n",
        "controls0 = jnp.array([[1.0, 0.0],\n",
        "                       [-1.0, 0.1],\n",
        "                       [0.5, -0.5],\n",
        "                       [1E-4, 0.0]])\n",
        "# potential issue when setting w = 0.0, hence setting w = 1E-4 instead (https://github.com/google/jax/issues/1052)\n",
        "\n",
        "A_analytic, B_analytic, C_analytic = jax.vmap(linearize_unicycle_dynamics_analytic, [None, 0, 0])(continuous_time_unicycle_dynamics, states0, controls0)\n",
        "A_autodiff, B_autodiff, C_autodiff = jax.vmap(linearize_dynamics_autodifferentiation, [None, 0, 0])(continuous_time_unicycle_dynamics, states0, controls0)\n",
        "\n",
        "jnp.sum(A_analytic != A_autodiff) == 0, jnp.sum(B_analytic != B_autodiff) == 0, jnp.sum(C_analytic != C_autodiff) == 0\n",
        "######################"
      ],
      "metadata": {
        "id": "43DlaX0Q8BDC",
        "colab": {
          "base_uri": "https://localhost:8080/"
        },
        "outputId": "b41caf38-826d-4b3e-9db0-313a9f89cfcc"
      },
      "execution_count": null,
      "outputs": [
        {
          "output_type": "execute_result",
          "data": {
            "text/plain": [
              "(Array(True, dtype=bool), Array(True, dtype=bool), Array(True, dtype=bool))"
            ]
          },
          "metadata": {},
          "execution_count": 231
        }
      ]
    },
    {
      "cell_type": "markdown",
      "source": [
        "## 4(c) Linearize discrete-time dynamics using autodiff\n",
        "\n",
        "You maybe want to revise your code from 3(b) in order to deal with *batched* inputs. Read up on `jax.vmap` documentation, and some examples of how to use it are in the previous cell."
      ],
      "metadata": {
        "id": "OrIP0q0vAKzE"
      }
    },
    {
      "cell_type": "code",
      "source": [
        "def discrete_time_unicycle_dynamics(state: ArrayLike, control: ArrayLike) -> ArrayLike:\n",
        "\n",
        "  dt = 0.01\n",
        "  x = state[0]\n",
        "  y = state[1]\n",
        "  theta = state[2]\n",
        "  v = state[3]\n",
        "  w = control[0]\n",
        "  a = control[1]\n",
        "  smallw = jnp.abs(w) < 10**(-3)\n",
        "\n",
        "  Ds = (jnp.sin(theta + w*dt) - jnp.sin(theta))/w\n",
        "  Dc = (jnp.cos(theta + w*dt) - jnp.cos(theta))/w\n",
        "\n",
        "  xd = jnp.where(smallw,\n",
        "                  x + v*jnp.cos(theta)*dt + 0.5*a*jnp.cos(theta)*(dt**2),\n",
        "\n",
        "                  x + v*Ds + a*jnp.sin(theta + w*dt)*dt/w + a/w*Dc)\n",
        "\n",
        "  yd = jnp.where(smallw,\n",
        "                  y + v*jnp.sin(theta)*dt + 0.5*a*jnp.sin(theta)*(dt**2),\n",
        "\n",
        "                  y - v*Dc - a*jnp.cos(theta + w*dt)*dt/w + a/w*Ds)\n",
        "\n",
        "  thetad = jnp.where(smallw,\n",
        "                      theta,\n",
        "                      theta + w*dt)\n",
        "\n",
        "  vd = jnp.where(smallw,\n",
        "                  v + a*dt,\n",
        "                  v + a*dt)\n",
        "\n",
        "  return jnp.array([xd, yd, thetad, vd])\n"
      ],
      "metadata": {
        "id": "icnPvKJABCLL"
      },
      "execution_count": null,
      "outputs": []
    },
    {
      "cell_type": "code",
      "source": [
        "### DO NOT ALTER, but please run this cell for your submission ###\n",
        "A_autodiff, B_autodiff, C_autodiff = jax.vmap(linearize_dynamics_autodifferentiation, [None, 0, 0])(discrete_time_unicycle_dynamics, states0, controls0)\n",
        "####################"
      ],
      "metadata": {
        "id": "6-Ck_ZP3ArIU"
      },
      "execution_count": null,
      "outputs": []
    },
    {
      "cell_type": "code",
      "source": [
        "### DO NOT ALTER, but please run this cell for your submission ###\n",
        "A_autodiff\n",
        "####################"
      ],
      "metadata": {
        "id": "qGSEORnKDo-c",
        "colab": {
          "base_uri": "https://localhost:8080/"
        },
        "outputId": "deb36a9a-147d-4ee4-ab87-1b1d7de7eb70"
      },
      "execution_count": null,
      "outputs": [
        {
          "output_type": "execute_result",
          "data": {
            "text/plain": [
              "Array([[[ 1.00000000e+00,  0.00000000e+00, -1.00016594e-04,\n",
              "          9.99983307e-03],\n",
              "        [ 0.00000000e+00,  1.00000000e+00,  1.99996661e-02,\n",
              "          5.00082970e-05],\n",
              "        [ 0.00000000e+00,  0.00000000e+00,  1.00000000e+00,\n",
              "          0.00000000e+00],\n",
              "        [ 0.00000000e+00,  0.00000000e+00,  0.00000000e+00,\n",
              "          1.00000000e+00]],\n",
              "\n",
              "       [[ 1.00000000e+00,  0.00000000e+00, -2.50073848e-04,\n",
              "         -9.99982376e-03],\n",
              "        [ 0.00000000e+00,  1.00000000e+00, -5.00041172e-02,\n",
              "          5.00082970e-05],\n",
              "        [ 0.00000000e+00,  0.00000000e+00,  1.00000000e+00,\n",
              "          0.00000000e+00],\n",
              "        [ 0.00000000e+00,  0.00000000e+00,  0.00000000e+00,\n",
              "          1.00000000e+00]],\n",
              "\n",
              "       [[ 1.00000000e+00,  0.00000000e+00, -1.99749302e-02,\n",
              "         -2.50339508e-05],\n",
              "        [ 0.00000000e+00,  1.00000000e+00, -4.99943271e-05,\n",
              "          9.99994855e-03],\n",
              "        [ 0.00000000e+00,  0.00000000e+00,  1.00000000e+00,\n",
              "          0.00000000e+00],\n",
              "        [ 0.00000000e+00,  0.00000000e+00,  0.00000000e+00,\n",
              "          1.00000000e+00]],\n",
              "\n",
              "       [[ 1.00000000e+00,  0.00000000e+00, -3.89711447e-02,\n",
              "          4.99999942e-03],\n",
              "        [ 0.00000000e+00,  1.00000000e+00,  2.24999972e-02,\n",
              "          8.66025407e-03],\n",
              "        [ 0.00000000e+00,  0.00000000e+00,  1.00000000e+00,\n",
              "          0.00000000e+00],\n",
              "        [ 0.00000000e+00,  0.00000000e+00,  0.00000000e+00,\n",
              "          1.00000000e+00]]], dtype=float32)"
            ]
          },
          "metadata": {},
          "execution_count": 234
        }
      ]
    },
    {
      "cell_type": "code",
      "source": [
        "### DO NOT ALTER, but please run this cell for your submission ###\n",
        "B_autodiff\n",
        "####################"
      ],
      "metadata": {
        "id": "reC1XC7ADo45",
        "colab": {
          "base_uri": "https://localhost:8080/"
        },
        "outputId": "141ccb36-4ec3-478b-83b2-ca89a0599d60"
      },
      "execution_count": null,
      "outputs": [
        {
          "output_type": "execute_result",
          "data": {
            "text/plain": [
              "Array([[[-6.6682696e-07,  4.9990034e-05],\n",
              "        [ 9.9980069e-05,  3.3341348e-07],\n",
              "        [ 9.9999998e-03,  0.0000000e+00],\n",
              "        [ 0.0000000e+00,  9.9999998e-03]],\n",
              "\n",
              "       [[-1.6188142e-06, -4.9989059e-05],\n",
              "        [-2.4998048e-04,  3.2410026e-07],\n",
              "        [ 9.9999998e-03,  0.0000000e+00],\n",
              "        [ 0.0000000e+00,  9.9999998e-03]],\n",
              "\n",
              "       [[-9.9660829e-05, -1.4714897e-07],\n",
              "        [-4.2812462e-07,  4.9932460e-05],\n",
              "        [ 9.9999998e-03,  0.0000000e+00],\n",
              "        [ 0.0000000e+00,  9.9999998e-03]],\n",
              "\n",
              "       [[ 0.0000000e+00,  2.4999998e-05],\n",
              "        [ 0.0000000e+00,  4.3301272e-05],\n",
              "        [ 0.0000000e+00,  0.0000000e+00],\n",
              "        [ 0.0000000e+00,  9.9999998e-03]]], dtype=float32)"
            ]
          },
          "metadata": {},
          "execution_count": 235
        }
      ]
    },
    {
      "cell_type": "code",
      "source": [
        "### DO NOT ALTER, but please run this cell for your submission ###\n",
        "C_autodiff\n",
        "####################"
      ],
      "metadata": {
        "id": "haKEM7ldDoxY",
        "colab": {
          "base_uri": "https://localhost:8080/"
        },
        "outputId": "d9325f59-1f84-43dc-ee75-6f787d3b961a"
      },
      "execution_count": null,
      "outputs": [
        {
          "output_type": "execute_result",
          "data": {
            "text/plain": [
              "Array([[ 6.6682696e-07, -9.9980069e-05,  0.0000000e+00,  0.0000000e+00],\n",
              "       [ 7.8401098e-04,  1.5684259e-01,  9.3132257e-09, -7.2526745e-08],\n",
              "       [ 3.1426355e-02,  7.8764868e-05, -4.6566129e-09,  4.6566129e-09],\n",
              "       [ 4.0810585e-02, -2.3561954e-02,  0.0000000e+00,  0.0000000e+00]],      dtype=float32)"
            ]
          },
          "metadata": {},
          "execution_count": 236
        }
      ]
    },
    {
      "cell_type": "markdown",
      "source": [
        "# Problem 5"
      ],
      "metadata": {
        "id": "LANYbsoqKG-y"
      }
    },
    {
      "cell_type": "markdown",
      "source": [
        "## 5(a) Linearization error"
      ],
      "metadata": {
        "id": "0tj7dpkpKLfQ"
      }
    },
    {
      "cell_type": "code",
      "source": [
        "# no starter code for this problem. You are free to implement it how ever you like. Use previous code for inspiration.  :)\n",
        "def f(x: ArrayLike, u: ArrayLike) -> ArrayLike:\n",
        "\n",
        "  mc = 1; mp = 1; l = 1; g = 9.81\n",
        "\n",
        "  cp1 = x[2]\n",
        "  cp2 = x[3]\n",
        "  cp3 = 1/(mc + mp*(jnp.sin(x[1])**2))*(u[0] + mp*jnp.sin(x[1])*(l*(x[3]**2) + g*jnp.cos(x[1])))\n",
        "  cp4 = 1/(l*(mc + mp*(jnp.sin(x[1])**2)))*(-u[0]*jnp.cos(x[1]) - mp*l*(x[3]**2)*jnp.cos(x[1])*jnp.sin(x[1]) - (mc + mp)*g*jnp.sin(x[1]))\n",
        "\n",
        "  return jnp.array([cp1, cp2, cp3, cp4])\n",
        "\n",
        "def AB_lin(function, xstar: ArrayLike, ustar: ArrayLike) -> tuple:\n",
        "  A = jax.jacfwd(lambda x: function(x, ustar))(xstar)\n",
        "  B = jax.jacfwd(lambda u: function(xstar, u))(ustar)\n",
        "\n",
        "  return A, B\n",
        "\n",
        "x_star = np.array([0, jnp.pi, 0, 0], dtype=float)\n",
        "u_star = np.array([0], dtype=float)\n",
        "\n",
        "A_autodiff, B_autodiff = AB_lin(f, x_star, u_star)\n",
        "\n",
        "def f_lin(x, u):\n",
        "\n",
        "  x_bar = x - x_star\n",
        "  u_bar = u - u_star\n",
        "  A = A_autodiff\n",
        "  B = B_autodiff\n",
        "\n",
        "  return A @ x_bar + B @ u_bar\n",
        "\n",
        "def error(x, u):\n",
        "  return jnp.linalg.norm(f(x, u) - f_lin(x, u), ord = 2)\n",
        "\n",
        "x_input = jnp.array([[0, 0.99*jnp.pi, 0, 0],\n",
        "                    [0, 0.9*jnp.pi, 0, 0],\n",
        "                    [0, 0.85*jnp.pi, 0, 0],\n",
        "                    [0, 0.5*jnp.pi, 0, 0],\n",
        "                    [0, 0, 0, 0],\n",
        "                    [1, jnp.pi, 0,0]])\n",
        "\n",
        "u_input = jnp.array([[0],\n",
        "                    [-10],\n",
        "                    [0],\n",
        "                    [0],\n",
        "                    [0],\n",
        "                    [10]])\n",
        "\n",
        "errors = [error(x_input[i], u_input[i]) for i in range(6)]\n",
        "\n",
        "for i, e in enumerate(errors):\n",
        "    question = np.array([\"i\", \"ii\", \"iii\", \"iv\", \"v\", \"vi\"])\n",
        "    print(\"Linearization error for \" + question[i] + \" = \" + str(e))\n"
      ],
      "metadata": {
        "id": "AG3OVXgALHeh",
        "colab": {
          "base_uri": "https://localhost:8080/"
        },
        "outputId": "2be4b155-906c-4c7f-ee71-bd2c31d26aa8"
      },
      "execution_count": null,
      "outputs": [
        {
          "output_type": "stream",
          "name": "stdout",
          "text": [
            "Linearization error for i = 0.0008729859\n",
            "Linearization error for ii = 2.3539805\n",
            "Linearization error for iii = 2.2886374\n",
            "Linearization error for iv = 26.054409\n",
            "Linearization error for v = 68.91344\n",
            "Linearization error for vi = 2.1324806e-06\n"
          ]
        }
      ]
    },
    {
      "cell_type": "markdown",
      "source": [
        "## 5(b)\n",
        "Yes. Based on the definition of linearization, it makes sense that the error gets larger as the evaluated condition get further from the unstable equilibrium point."
      ],
      "metadata": {
        "id": "LJztttj7LY8Q"
      }
    }
  ]
}